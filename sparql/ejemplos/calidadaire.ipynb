{
  "nbformat": 4,
  "nbformat_minor": 0,
  "metadata": {
    "colab": {
      "name": "Untitled1.ipynb",
      "provenance": []
    },
    "kernelspec": {
      "name": "python3",
      "display_name": "Python 3"
    }
  },
  "cells": [
    {
      "cell_type": "markdown",
      "metadata": {
        "id": "mPdORRiZ8p0L",
        "colab_type": "text"
      },
      "source": [
        "Instalar libreria para manajernos con consultas SPARQL"
      ]
    },
    {
      "cell_type": "code",
      "metadata": {
        "id": "_RzERnMz3yd7",
        "colab_type": "code",
        "colab": {
          "base_uri": "https://localhost:8080/",
          "height": 241
        },
        "outputId": "103dda97-9b20-440f-e1b6-b95689a44590"
      },
      "source": [
        "pip install SPARQLWrapper"
      ],
      "execution_count": 1,
      "outputs": [
        {
          "output_type": "stream",
          "text": [
            "Collecting SPARQLWrapper\n",
            "  Downloading https://files.pythonhosted.org/packages/00/9b/443fbe06996c080ee9c1f01b04e2f683b2b07e149905f33a2397ee3b80a2/SPARQLWrapper-1.8.5-py3-none-any.whl\n",
            "Collecting rdflib>=4.0\n",
            "\u001b[?25l  Downloading https://files.pythonhosted.org/packages/d0/6b/6454aa1db753c0f8bc265a5bd5c10b5721a4bb24160fb4faf758cf6be8a1/rdflib-5.0.0-py3-none-any.whl (231kB)\n",
            "\u001b[K     |████████████████████████████████| 235kB 6.5MB/s \n",
            "\u001b[?25hCollecting isodate\n",
            "\u001b[?25l  Downloading https://files.pythonhosted.org/packages/9b/9f/b36f7774ff5ea8e428fdcfc4bb332c39ee5b9362ddd3d40d9516a55221b2/isodate-0.6.0-py2.py3-none-any.whl (45kB)\n",
            "\u001b[K     |████████████████████████████████| 51kB 5.8MB/s \n",
            "\u001b[?25hRequirement already satisfied: pyparsing in /usr/local/lib/python3.6/dist-packages (from rdflib>=4.0->SPARQLWrapper) (2.4.7)\n",
            "Requirement already satisfied: six in /usr/local/lib/python3.6/dist-packages (from rdflib>=4.0->SPARQLWrapper) (1.12.0)\n",
            "Installing collected packages: isodate, rdflib, SPARQLWrapper\n",
            "Successfully installed SPARQLWrapper-1.8.5 isodate-0.6.0 rdflib-5.0.0\n"
          ],
          "name": "stdout"
        }
      ]
    },
    {
      "cell_type": "markdown",
      "metadata": {
        "id": "4QIFRETk8zMx",
        "colab_type": "text"
      },
      "source": [
        "En esta ejemplo obtendremos las mediciones observadas el día 4 de junio del contaminante pm10 en una estación en concreto.\n",
        "\n",
        "Para conocer más ejemplos de consulta puede irse a : [Ejemplos de consultas sparql calidad del aire](https://www.zaragoza.es/sede/servicio/catalogo/131#SPARQL)"
      ]
    },
    {
      "cell_type": "code",
      "metadata": {
        "id": "kVfIi8Ts320S",
        "colab_type": "code",
        "outputId": "d7c077a6-3263-4092-a361-a3c97a64a774",
        "colab": {
          "base_uri": "https://localhost:8080/",
          "height": 445
        }
      },
      "source": [
        "from SPARQLWrapper import SPARQLWrapper, JSON\n",
        "sparql = SPARQLWrapper(\"http://datos.zaragoza.es/sparql\")\n",
        "sparql.setQuery(\"\"\"\n",
        "    PREFIX ssn:<http://purl.oclc.org/NET/ssnx/ssn#>PREFIX dul:<http://www.loa-cnr.it/ontologies/DUL.owl#>PREFIX ssnext:<http://vocab.linkeddata.es/datosabiertos/def/medio-ambiente/calidad-aire/ssn-ext#>select distinct ?magnitud ?estacion ?fecha ?valor ?verif ?uri where {?uri a ssn:Observation;ssn:observedBy ?estacion;ssn:observationResult ?res;ssn:observedProperty ?magnitud;ssnext:observationStatus ?verif;ssn:observationResultTime ?fecha.?res ssn:hasValue/dul:hasDataValue ?valor. filter ((?fecha>=\"2020-06-04T00:00:00\"^^xsd:dateTime and ?fecha<=\"2020-06-04T23:00:00\"^^xsd:dateTime) and regex(?uri, \"horaria\") and regex(?estacion, \"/estacion/36\") and regex(?magnitud,'/PM10'))  }order by ?estacion  DESC(?fecha)\n",
        "\"\"\")\n",
        "sparql.setReturnFormat(JSON)\n",
        "results = sparql.query().convert()\n",
        "\n",
        "for result in results[\"results\"][\"bindings\"]:\n",
        "    print(result[\"magnitud\"][\"value\"], result[\"fecha\"][\"value\"],result[\"valor\"][\"value\"],result[\"verif\"][\"value\"])"
      ],
      "execution_count": 14,
      "outputs": [
        {
          "output_type": "stream",
          "text": [
            "http://es.dbpedia.org/resource/PM10 2020-06-04T23:00:00 1.5 http://vocab.linkeddata.es/datosabiertos/kos/medio-ambiente/calidad-aire/estado-observacion/no-verificado\n",
            "http://es.dbpedia.org/resource/PM10 2020-06-04T22:00:00 1.74 http://vocab.linkeddata.es/datosabiertos/kos/medio-ambiente/calidad-aire/estado-observacion/no-verificado\n",
            "http://es.dbpedia.org/resource/PM10 2020-06-04T21:00:00 1.81 http://vocab.linkeddata.es/datosabiertos/kos/medio-ambiente/calidad-aire/estado-observacion/no-verificado\n",
            "http://es.dbpedia.org/resource/PM10 2020-06-04T20:00:00 1.59 http://vocab.linkeddata.es/datosabiertos/kos/medio-ambiente/calidad-aire/estado-observacion/no-verificado\n",
            "http://es.dbpedia.org/resource/PM10 2020-06-04T19:00:00 1.4 http://vocab.linkeddata.es/datosabiertos/kos/medio-ambiente/calidad-aire/estado-observacion/no-verificado\n",
            "http://es.dbpedia.org/resource/PM10 2020-06-04T18:00:00 1.07 http://vocab.linkeddata.es/datosabiertos/kos/medio-ambiente/calidad-aire/estado-observacion/no-verificado\n",
            "http://es.dbpedia.org/resource/PM10 2020-06-04T17:00:00 1.3 http://vocab.linkeddata.es/datosabiertos/kos/medio-ambiente/calidad-aire/estado-observacion/no-verificado\n",
            "http://es.dbpedia.org/resource/PM10 2020-06-04T16:00:00 1.98 http://vocab.linkeddata.es/datosabiertos/kos/medio-ambiente/calidad-aire/estado-observacion/no-verificado\n",
            "http://es.dbpedia.org/resource/PM10 2020-06-04T15:00:00 4.26 http://vocab.linkeddata.es/datosabiertos/kos/medio-ambiente/calidad-aire/estado-observacion/no-verificado\n",
            "http://es.dbpedia.org/resource/PM10 2020-06-04T14:00:00 5.02 http://vocab.linkeddata.es/datosabiertos/kos/medio-ambiente/calidad-aire/estado-observacion/no-verificado\n",
            "http://es.dbpedia.org/resource/PM10 2020-06-04T13:00:00 5.65 http://vocab.linkeddata.es/datosabiertos/kos/medio-ambiente/calidad-aire/estado-observacion/no-verificado\n",
            "http://es.dbpedia.org/resource/PM10 2020-06-04T12:00:00 6.68 http://vocab.linkeddata.es/datosabiertos/kos/medio-ambiente/calidad-aire/estado-observacion/no-verificado\n",
            "http://es.dbpedia.org/resource/PM10 2020-06-04T11:00:00 13.72 http://vocab.linkeddata.es/datosabiertos/kos/medio-ambiente/calidad-aire/estado-observacion/no-verificado\n",
            "http://es.dbpedia.org/resource/PM10 2020-06-04T10:00:00 22.77 http://vocab.linkeddata.es/datosabiertos/kos/medio-ambiente/calidad-aire/estado-observacion/no-verificado\n",
            "http://es.dbpedia.org/resource/PM10 2020-06-04T09:00:00 18.02 http://vocab.linkeddata.es/datosabiertos/kos/medio-ambiente/calidad-aire/estado-observacion/no-verificado\n",
            "http://es.dbpedia.org/resource/PM10 2020-06-04T08:00:00 20.48 http://vocab.linkeddata.es/datosabiertos/kos/medio-ambiente/calidad-aire/estado-observacion/no-verificado\n",
            "http://es.dbpedia.org/resource/PM10 2020-06-04T07:00:00 20.39 http://vocab.linkeddata.es/datosabiertos/kos/medio-ambiente/calidad-aire/estado-observacion/no-verificado\n",
            "http://es.dbpedia.org/resource/PM10 2020-06-04T06:00:00 26.94 http://vocab.linkeddata.es/datosabiertos/kos/medio-ambiente/calidad-aire/estado-observacion/no-verificado\n",
            "http://es.dbpedia.org/resource/PM10 2020-06-04T05:00:00 33.14 http://vocab.linkeddata.es/datosabiertos/kos/medio-ambiente/calidad-aire/estado-observacion/no-verificado\n",
            "http://es.dbpedia.org/resource/PM10 2020-06-04T04:00:00 36.32 http://vocab.linkeddata.es/datosabiertos/kos/medio-ambiente/calidad-aire/estado-observacion/no-verificado\n",
            "http://es.dbpedia.org/resource/PM10 2020-06-04T03:00:00 22.78 http://vocab.linkeddata.es/datosabiertos/kos/medio-ambiente/calidad-aire/estado-observacion/no-verificado\n",
            "http://es.dbpedia.org/resource/PM10 2020-06-04T02:00:00 23.58 http://vocab.linkeddata.es/datosabiertos/kos/medio-ambiente/calidad-aire/estado-observacion/no-verificado\n",
            "http://es.dbpedia.org/resource/PM10 2020-06-04T01:00:00 18.95 http://vocab.linkeddata.es/datosabiertos/kos/medio-ambiente/calidad-aire/estado-observacion/no-verificado\n",
            "http://es.dbpedia.org/resource/PM10 2020-06-04T00:00:00 7.0 http://vocab.linkeddata.es/datosabiertos/kos/medio-ambiente/calidad-aire/estado-observacion/no-verificado\n"
          ],
          "name": "stdout"
        }
      ]
    }
  ]
}